{
  "nbformat": 4,
  "nbformat_minor": 0,
  "metadata": {
    "colab": {
      "provenance": [],
      "toc_visible": true,
      "include_colab_link": true
    },
    "kernelspec": {
      "name": "python3",
      "display_name": "Python 3"
    },
    "language_info": {
      "name": "python"
    }
  },
  "cells": [
    {
      "cell_type": "markdown",
      "metadata": {
        "id": "view-in-github",
        "colab_type": "text"
      },
      "source": [
        "<a href=\"https://colab.research.google.com/github/GSuleh/Biometrics-Lab/blob/main/01_metrics.ipynb\" target=\"_parent\"><img src=\"https://colab.research.google.com/assets/colab-badge.svg\" alt=\"Open In Colab\"/></a>"
      ]
    },
    {
      "cell_type": "markdown",
      "source": [
        "\n",
        "---\n",
        "\n",
        "Simple implementation of biometric recognition-related metrics.  \n",
        "\n",
        "Language: Python 3  \n",
        "\n",
        "Needed libraries:\n",
        "* matplotlib (https://matplotlib.org/)"
      ],
      "metadata": {
        "id": "W2h79Hrpn2yV"
      }
    },
    {
      "cell_type": "markdown",
      "source": [
        "## Needed libraries and files"
      ],
      "metadata": {
        "id": "BE8EQN9HqiV5"
      }
    },
    {
      "cell_type": "code",
      "source": [
        "# download of CSV file with biometric system output samples\n",
        "!pip install gdown\n",
        "!gdown 1lbYw3ZxXlaxY9yoT8ASeVSlwDfvQjcuF"
      ],
      "metadata": {
        "id": "hqB-XRACwmjz"
      },
      "execution_count": null,
      "outputs": []
    },
    {
      "cell_type": "code",
      "source": [
        "# sanity check: shows the content of the downloaded file\n",
        "! wc -l /content/test.csv\n",
        "! cat /content/test.csv"
      ],
      "metadata": {
        "id": "8qixiaEUxwUV"
      },
      "execution_count": null,
      "outputs": []
    },
    {
      "cell_type": "code",
      "execution_count": null,
      "metadata": {
        "id": "8GvY-Z3cl_4P"
      },
      "outputs": [],
      "source": [
        "# imported libraries\n",
        "import matplotlib as plt\n",
        "print(plt.__version__)"
      ]
    },
    {
      "cell_type": "markdown",
      "source": [
        "## Auxiliary functions."
      ],
      "metadata": {
        "id": "iwOBgbBKqZ8N"
      }
    },
    {
      "cell_type": "code",
      "source": [
        "# Sums all the values in the given list, using pairwise summation to reduce\n",
        "# round-off error.\n",
        "def _pairwise_sum(values):\n",
        "  sum = float('NaN') # nothing computed, returns not-a-number\n",
        "\n",
        "  if len(values) == 0:\n",
        "    sum = 0.0 # nothing to sum, returns zero\n",
        "\n",
        "  elif len(values) == 1:\n",
        "    sum = float(values[0]) # one element, returns it\n",
        "\n",
        "  elif len(values) == 2:\n",
        "    sum = float(values[0] + values[1]) # two elements, returns their sum\n",
        "\n",
        "  else:\n",
        "    i = int(len(values) / 2)\n",
        "    sum = _pairwise_sum(values[0:i]) + _pairwise_sum(values[i:len(values)]) # recursive call\n",
        "\n",
        "  return sum"
      ],
      "metadata": {
        "id": "vWFcWuLIqFk6"
      },
      "execution_count": null,
      "outputs": []
    },
    {
      "cell_type": "code",
      "source": [
        "# tests pairwise sum\n",
        "try:\n",
        "  _pairwise_sum(None)\n",
        "except TypeError:\n",
        "    print(\"Pairwise sum won't work with None value.\")\n",
        "\n",
        "assert _pairwise_sum([]) == 0.0  # empty array\n",
        "assert _pairwise_sum([10]) == 10.0  # one element\n",
        "assert _pairwise_sum([10, 20]) == 30.0  # even number of elements\n",
        "assert _pairwise_sum([10, 20, -30, -0.5]) == -0.5  # even number of elements\n",
        "assert _pairwise_sum([10, 20, -30]) == 0.0  # odd number of elements\n",
        "assert _pairwise_sum([10, 20, -30, -0.5, 0.5]) == 0.0  # odd number of elements"
      ],
      "metadata": {
        "id": "uM3CKSNzs4M-"
      },
      "execution_count": null,
      "outputs": []
    },
    {
      "cell_type": "markdown",
      "source": [
        "---"
      ],
      "metadata": {
        "id": "l_49p-bKtW6f"
      }
    },
    {
      "cell_type": "code",
      "source": [
        "# Computes the variance of the given values.\n",
        "def _compute_var(values):\n",
        "  var = float('NaN') # nothing computed, returns not-a-number\n",
        "\n",
        "  if len(values) > 0:\n",
        "    # mean of values\n",
        "    mean = _pairwise_sum(values) / len(values)\n",
        "\n",
        "    # deviations\n",
        "    deviations = [(v - mean) ** 2.0 for v in values]\n",
        "\n",
        "    # variance\n",
        "    var = _pairwise_sum(deviations) / len(deviations)\n",
        "\n",
        "  return var"
      ],
      "metadata": {
        "id": "wrFAqmB-tRdG"
      },
      "execution_count": null,
      "outputs": []
    },
    {
      "cell_type": "code",
      "source": [
        "# tests calculation of variance\n",
        "try:\n",
        "    _compute_var(None)\n",
        "except TypeError:\n",
        "    print(\"Var calculation won't work with None value.\")\n",
        "\n",
        "assert not float('-inf') < _compute_var([]) < float('inf')  # empty array, not a number\n",
        "assert _compute_var([10]) == 0.0  # one element\n",
        "assert float('-inf') < _compute_var([10, 20]) < float('inf')  # even number of elements\n",
        "assert float('-inf') < _compute_var([10, 20, -30, -0.5]) < float('inf')  # even number of elements\n",
        "assert float('-inf') < _compute_var([10, 20, -30]) < float('inf')  # odd number of elements\n",
        "assert float('-inf') < _compute_var([10, 20, -30, -0.5, 0.5]) < float('inf')  # odd number of elements"
      ],
      "metadata": {
        "id": "SdWGKlfxun0g"
      },
      "execution_count": null,
      "outputs": []
    },
    {
      "cell_type": "markdown",
      "source": [
        "---"
      ],
      "metadata": {
        "id": "jC6T1ixzvVDQ"
      }
    },
    {
      "cell_type": "code",
      "source": [
        "# Loads data from the CSV file stored in the given file path.\n",
        "# Expected file line format: <label>,<score>\n",
        "# Comment lines starting with \"#\" will be ignored.\n",
        "# Output: array of (<label>,<score>) elements.\n",
        "def load_data(file_path):\n",
        "  # output\n",
        "  output = [] # empty content\n",
        "\n",
        "  # reads each line of the file,\n",
        "  # ignoring empty lines and the ones starting with '#'\n",
        "  with open(file_path) as f:\n",
        "    for line in f:\n",
        "      content = line.strip().split(',')\n",
        "      if len(content) > 0 and len(content[0]) > 0 and content[0][0] != '#': # valid line; other will be ignored\n",
        "        label = int(content[0])\n",
        "        score = float(content[1])\n",
        "\n",
        "        output.append((label, score))\n",
        "\n",
        "  return output"
      ],
      "metadata": {
        "id": "xFhJQiurvWW1"
      },
      "execution_count": null,
      "outputs": []
    },
    {
      "cell_type": "code",
      "source": [
        "# tests loading of CSV file\n",
        "try:\n",
        "  load_data('nofile.csv')\n",
        "except FileNotFoundError:\n",
        "  print(\"Can't read a file that doesn't exist.\")\n",
        "\n",
        "output = load_data('/content/test.csv')\n",
        "assert len(output) > 0\n",
        "print('observations:', len(output), output)"
      ],
      "metadata": {
        "id": "tYJ5fRGyzALY"
      },
      "execution_count": null,
      "outputs": []
    },
    {
      "cell_type": "markdown",
      "source": [
        "---\n",
        "\n",
        "## d' Implementation"
      ],
      "metadata": {
        "id": "kOHywXcW0IFl"
      }
    },
    {
      "cell_type": "code",
      "source": [
        "# Computes d-prime for the given observations.\n",
        "# Observations must be an array of (<label>,<score>) elements.\n",
        "# Labels must be either 0 (impostor) or something else (genuine).\n",
        "# If either the number of impostors or genuine observations is zero,\n",
        "# it returns 'NaN' as d-prime.\n",
        "def compute_d_prime(observations):\n",
        "  # output\n",
        "  d_prime = float('NaN') # nothing computed, returns not-a-number\n",
        "\n",
        "  # separates genuine and impostor scores\n",
        "  genuine_scores = []\n",
        "  impostor_scores = []\n",
        "\n",
        "  # for each given observation\n",
        "  for obs in observations:\n",
        "    if obs[0] == 0:  # impostor\n",
        "      impostor_scores.append(obs[1])\n",
        "    else:  # genuine\n",
        "      genuine_scores.append(obs[1])\n",
        "\n",
        "  # if there are values for both classes (impostor and genuine)\n",
        "  if len(genuine_scores) > 0 and len(impostor_scores) > 0:\n",
        "    # computes mean values\n",
        "    genuine_mean = _pairwise_sum(genuine_scores) / len(genuine_scores)\n",
        "    impostor_mean = _pairwise_sum(impostor_scores) / len(impostor_scores)\n",
        "\n",
        "    # computes variances\n",
        "    genuine_var = _compute_var(genuine_scores)\n",
        "    impostor_var = _compute_var(impostor_scores)\n",
        "\n",
        "    # d-prime computation\n",
        "    d_prime = 2.0 ** 0.5 * abs(genuine_mean - impostor_mean) / (genuine_var + impostor_var) ** 0.5\n",
        "\n",
        "  return d_prime"
      ],
      "metadata": {
        "id": "8LJuvw4T0p7X"
      },
      "execution_count": null,
      "outputs": []
    },
    {
      "cell_type": "code",
      "source": [
        "# tests d-prime computation\n",
        "try:\n",
        "    compute_d_prime(None)\n",
        "except TypeError:\n",
        "    print(\"d-prime calculation won't work on None value.\")\n",
        "\n",
        "try:\n",
        "    compute_d_prime([0])\n",
        "except TypeError:\n",
        "    print(\"d-prime calculation won't work on arrays not containing (<label>,<score>) elements.\")\n",
        "\n",
        "assert not float('-inf') < compute_d_prime([]) < float('inf')  # empty array, not a number\n",
        "assert not float('-inf') < compute_d_prime([(0, 0.1)]) < float('inf')  # missing genuine, not a number\n",
        "assert not float('-inf') < compute_d_prime([(1, 0.1)]) < float('inf')  # missing impostors, not a number\n",
        "\n",
        "d_prime = compute_d_prime([(0, 2), (0, 4), (1, 0), (1, 2)])\n",
        "assert d_prime == 2.0"
      ],
      "metadata": {
        "id": "aLaK08Lb3EAn"
      },
      "execution_count": null,
      "outputs": []
    },
    {
      "cell_type": "markdown",
      "source": [
        "---\n",
        "### Exercise 1\n",
        "Compute d' for the content of <code>/content/test.csv</code>."
      ],
      "metadata": {
        "id": "9g5ZCVAAGT8E"
      }
    },
    {
      "cell_type": "code",
      "source": [
        "# add your code here\n"
      ],
      "metadata": {
        "id": "uxKbKJ4HGcrp"
      },
      "execution_count": null,
      "outputs": []
    },
    {
      "cell_type": "markdown",
      "source": [
        "---\n",
        "## FMR and FNMR Implementation"
      ],
      "metadata": {
        "id": "0lV20stp51yn"
      }
    },
    {
      "cell_type": "code",
      "source": [
        "# Computes FMR from the given similarity observations,\n",
        "# according to the given threshold.\n",
        "# Observations must be an array of (<label>,<score>) elements.\n",
        "# Labels must be either 0 (impostor) or something else (genuine).\n",
        "# If the number of impostors is zero, it returns 'NaN' as FMR.\n",
        "def compute_sim_fmr(observations, threshold):\n",
        "  fmr = float('NaN') # nothing computed, returns not-a-number\n",
        "\n",
        "  # counters\n",
        "  impostor_count = 0\n",
        "  false_match_count = 0\n",
        "\n",
        "  # for each observation\n",
        "  for obs in observations:\n",
        "    if obs[0] == 0:  # impostor\n",
        "      impostor_count = impostor_count + 1\n",
        "      if obs[1] >= threshold:\n",
        "        false_match_count = false_match_count + 1\n",
        "\n",
        "  # FMR computation\n",
        "  if impostor_count > 0:\n",
        "    fmr = false_match_count / impostor_count\n",
        "\n",
        "  return fmr"
      ],
      "metadata": {
        "id": "PoKPxgoK51Nn"
      },
      "execution_count": null,
      "outputs": []
    },
    {
      "cell_type": "code",
      "source": [
        "# tests FMR computation\n",
        "try:\n",
        "    compute_sim_fmr(None, 0.0)\n",
        "except TypeError:\n",
        "    print(\"FMR calculation won't work on None value.\")\n",
        "\n",
        "try:\n",
        "    compute_sim_fmr([0], 0.0)\n",
        "except TypeError:\n",
        "    print(\"FMR calculation won't work on arrays not containing (<label>,<score>) elements.\")\n",
        "\n",
        "assert not float('-inf') < compute_sim_fmr([], 0.0) < float('inf')  # empty array, not a number\n",
        "assert float('-inf') < compute_sim_fmr([(0, 0.1)], 0.0) < float('inf')  # missing genuine, ok\n",
        "assert not float('-inf') < compute_sim_fmr([(1, 0.1)], 0.0) < float('inf')  # missing impostors, not a number\n",
        "\n",
        "fmr = compute_sim_fmr([(0, 0.1), (0, 0.3), (1, 0.0)], 0.25)\n",
        "assert fmr == 0.5\n",
        "\n",
        "fmr = compute_sim_fmr([(0, 0.1), (0, 0.3), (1, 0.0)], 0.35)\n",
        "assert fmr == 0.0\n",
        "\n",
        "fmr = compute_sim_fmr([(0, 0.1), (0, 0.3), (1, 0.0)], 0.05)\n",
        "assert fmr == 1.0\n"
      ],
      "metadata": {
        "id": "WZeC6Fa07n-t"
      },
      "execution_count": null,
      "outputs": []
    },
    {
      "cell_type": "markdown",
      "source": [
        "---\n",
        "### Exercise 2\n",
        "What is the meaning of the threshold?"
      ],
      "metadata": {
        "id": "qhAnGyik9qDk"
      }
    },
    {
      "cell_type": "markdown",
      "source": [
        "*Add your explanation here:*\n",
        "\n",
        "\n",
        "---"
      ],
      "metadata": {
        "id": "TDg3RbNLGDJA"
      }
    },
    {
      "cell_type": "code",
      "source": [
        "# Computes FNMR from the given similarity observations,\n",
        "# according to the given threshold.\n",
        "# Observations must be an array of (<label>,<score>) elements.\n",
        "# Labels must be either 0 (impostor) or something else (genuine).\n",
        "# If the number of genuine observations is zero, it returns 'NaN' as FNMR.\n",
        "def compute_sim_fnmr(observations, threshold):\n",
        "  fnmr = float('NaN') # nothing computed, returns not-a-number\n",
        "\n",
        "  # counters\n",
        "  genuine_count = 0\n",
        "  false_non_match_count = 0\n",
        "\n",
        "  # for each observation\n",
        "  for obs in observations:\n",
        "    if obs[0] != 0:  # genuine observation\n",
        "      genuine_count = genuine_count + 1\n",
        "\n",
        "      if obs[1] < threshold:\n",
        "        false_non_match_count = false_non_match_count + 1\n",
        "\n",
        "  # FNMR computation\n",
        "  if genuine_count > 0:\n",
        "    fnmr = false_non_match_count / genuine_count\n",
        "\n",
        "  return fnmr"
      ],
      "metadata": {
        "id": "WgsSrHo79rRa"
      },
      "execution_count": null,
      "outputs": []
    },
    {
      "cell_type": "code",
      "source": [
        "# tests FNMR computation\n",
        "try:\n",
        "    compute_sim_fnmr(None, 0.0)\n",
        "except TypeError:\n",
        "    print(\"FNMR calculation won't work on None value.\")\n",
        "\n",
        "try:\n",
        "    compute_sim_fnmr([0], 0.0)\n",
        "except TypeError:\n",
        "    print(\"FNMR calculation won't work on arrays not containing (<label>,<score>) elements.\")\n",
        "\n",
        "assert not float('-inf') < compute_sim_fnmr([], 0.0) < float('inf')  # empty array, not a number\n",
        "assert not float('-inf') < compute_sim_fnmr([(0, 0.1)], 0.0) < float('inf')  # missing genuine, not a number\n",
        "assert float('-inf') < compute_sim_fnmr([(1, 0.1)], 0.0) < float('inf')  # missing impostors, ok\n",
        "\n",
        "fnmr = compute_sim_fnmr([(0, 0.0), (1, 0.1), (1, 0.3)], 0.25)\n",
        "assert fnmr == 0.5\n",
        "\n",
        "fnmr = compute_sim_fnmr([(0, 0.0), (1, 0.1), (1, 0.3)], 0.5)\n",
        "assert fnmr == 1.0\n",
        "\n",
        "fnmr = compute_sim_fnmr([(0, 0.0), (1, 0.1), (1, 0.3)], 0.05)\n",
        "assert fnmr == 0.0"
      ],
      "metadata": {
        "id": "1ryWINm7_I9h"
      },
      "execution_count": null,
      "outputs": []
    },
    {
      "cell_type": "markdown",
      "source": [
        "---"
      ],
      "metadata": {
        "id": "r_MgdAkqAGBq"
      }
    },
    {
      "cell_type": "code",
      "source": [
        "# Computes FNMR and FMR at EER from the given similarity observations.\n",
        "# Observations must be an array of (<label>,<score>) elements.\n",
        "# Labels must be either 0 (impostor) or something else (genuine).\n",
        "# Output: FNMR, FMR, EER_THRESHOLD.\n",
        "# If either the number of impostors or genuine observations is zero,\n",
        "# it returns 'NaN', 'NaN', 'NaN'.\n",
        "def compute_sim_fmr_fnmr_eer(observations):\n",
        "    # computed FNMR and FMR at EER, and EER threshold\n",
        "    output_fnmr = float('NaN') # nothing computed, returns not-a-number\n",
        "    output_fmr = float('NaN')\n",
        "    output_threshold = float('NaN')\n",
        "\n",
        "    # holds the difference between FMR and FNMR\n",
        "    fnmr_fmr_diff = float('inf') # a very large float\n",
        "\n",
        "    # sorted list of scores\n",
        "    scores = sorted([obs[1] for obs in observations])\n",
        "    if len(scores) > 0:\n",
        "      # for each score taken as threshold\n",
        "      for threshold in scores:\n",
        "        current_fnmr = compute_sim_fnmr(observations, threshold)\n",
        "        current_fmr = compute_sim_fmr(observations, threshold)\n",
        "\n",
        "        # cancels computation if any of the FNMR or FMR values are 'NaN' (impossible to compute them)\n",
        "        if not float('-inf') < current_fnmr < float('inf') or not float('-inf') < current_fmr < float('inf'):\n",
        "          break\n",
        "\n",
        "        # updates the difference between FNMR and FMR, if it is the case\n",
        "        current_diff = abs(current_fnmr - current_fmr)\n",
        "        if current_diff <= fnmr_fmr_diff:\n",
        "          fnmr_fmr_diff = current_diff\n",
        "\n",
        "          # updates current values\n",
        "          output_fnmr = current_fnmr\n",
        "          output_fmr = current_fmr\n",
        "          output_threshold = threshold\n",
        "\n",
        "        else:\n",
        "          # difference will start to increase, nothing to do anymore\n",
        "          break\n",
        "\n",
        "    return output_fnmr, output_fmr, output_threshold"
      ],
      "metadata": {
        "id": "9ezMzHouAHaf"
      },
      "execution_count": null,
      "outputs": []
    },
    {
      "cell_type": "code",
      "source": [
        "# tests FNMR and FMR at EER\n",
        "try:\n",
        "    compute_sim_fmr_fnmr_eer(None)\n",
        "except TypeError:\n",
        "    print(\"FNMR, FMR @ EER calculation won't work on None value.\")\n",
        "\n",
        "try:\n",
        "    compute_sim_fmr_fnmr_eer([0])\n",
        "except TypeError:\n",
        "    print(\"FNMR, FMR @ EER calculation won't work on arrays not containing (<label>,<score>) elements.\")\n",
        "\n",
        "assert not float('-inf') < compute_sim_fmr_fnmr_eer([])[0] < float('inf')  # empty array, not a number\n",
        "assert not float('-inf') < compute_sim_fmr_fnmr_eer([])[1] < float('inf')  # empty array, not a number\n",
        "assert not float('-inf') < compute_sim_fmr_fnmr_eer([])[2] < float('inf')  # empty array, not a number\n",
        "\n",
        "assert not float('-inf') < compute_sim_fmr_fnmr_eer([(0, 0.1)])[0] < float('inf')  # missing genuine, nan\n",
        "assert not float('-inf') < compute_sim_fmr_fnmr_eer([(0, 0.1)])[1] < float('inf')  # missing genuine, nan\n",
        "assert not float('-inf') < compute_sim_fmr_fnmr_eer([(0, 0.1)])[2] < float('inf')  # missing genuine, nan\n",
        "\n",
        "assert not float('-inf') < compute_sim_fmr_fnmr_eer([(1, 0.1)])[0] < float('inf')  # missing impostors, nan\n",
        "assert not float('-inf') < compute_sim_fmr_fnmr_eer([(1, 0.1)])[1] < float('inf')  # missing impostors, nan\n",
        "assert not float('-inf') < compute_sim_fmr_fnmr_eer([(1, 0.1)])[2] < float('inf')  # missing impostors, nan\n",
        "\n",
        "fnmr, fmr, eer = compute_sim_fmr_fnmr_eer([(0, 0.2), (0, 0.3), (0, 0.4), (1, 0.5), (1, 0.6), (1, 0.7)])\n",
        "assert fnmr == 0.0\n",
        "assert fmr == 0.0\n",
        "assert eer == 0.5"
      ],
      "metadata": {
        "id": "2AW32J0lEgyQ"
      },
      "execution_count": null,
      "outputs": []
    },
    {
      "cell_type": "markdown",
      "source": [
        "---\n",
        "### Exercise 3\n",
        "Compute FNMR and FMR at EER for the content of <code>/content/test.csv</code>."
      ],
      "metadata": {
        "id": "wX-xABzQFnIU"
      }
    },
    {
      "cell_type": "code",
      "source": [
        "# add your code here\n"
      ],
      "metadata": {
        "id": "FqzQwaYlF3xk"
      },
      "execution_count": null,
      "outputs": []
    },
    {
      "cell_type": "markdown",
      "source": [
        "---\n",
        "## FMR versus TMR AUC"
      ],
      "metadata": {
        "id": "jxkZU2PrGOuk"
      }
    },
    {
      "cell_type": "code",
      "source": [
        "# Computes FMR x TMR (a.k.a. 1.0 - FNMR) AUC from the given similarity observations.\n",
        "# Observations must be an array of (<label>,<score>) elements.\n",
        "# Labels must be either 0 (impostor) or something else (genuine).\n",
        "# Output: AUC, array with FMR values, array with TMR values.\n",
        "# If either the number of impostors or genuine observations is zero, it returns 'NaN', [], [].\n",
        "def compute_sim_fmr_tmr_auc(observations):\n",
        "    # output values\n",
        "    auc = float('NaN') # nothing computed, returns not-a-number\n",
        "    fmrs = []\n",
        "    tmrs = []\n",
        "\n",
        "    # sorted list of scores\n",
        "    scores = sorted([obs[1] for obs in observations])\n",
        "    if len(scores) > 0:\n",
        "      # for each score taken as a threshold\n",
        "      for threshold in scores:\n",
        "        current_fmr = compute_sim_fmr(observations, threshold)\n",
        "        current_fnmr = compute_sim_fnmr(observations, threshold)\n",
        "\n",
        "        # cancels computation if any of the FNMR or FMR values are 'NaN' (impossible to compute them)\n",
        "        if not float('-inf') < current_fmr < float('inf') or not float('-inf') < current_fnmr < float('inf'):\n",
        "          break\n",
        "\n",
        "        # adds the computed values to the proper lists\n",
        "        fmrs.append(current_fmr)\n",
        "        tmrs.append(1.0 - current_fnmr)\n",
        "\n",
        "      # computes the AUC\n",
        "      if len(fmrs) > 0 and len(tmrs) > 0:\n",
        "        # adds the last points on [0.0, 0.0] for completeness\n",
        "        fmrs.append(0.0)\n",
        "        tmrs.append(0.0)\n",
        "\n",
        "        auc_parts = []\n",
        "        for i in range(len(fmrs) - 1):\n",
        "          auc_parts.append(abs(fmrs[i] - fmrs[i + 1]) * (tmrs[i] + tmrs[i + 1]) / 2.0)\n",
        "        auc = _pairwise_sum(auc_parts)\n",
        "\n",
        "    return auc, fmrs, tmrs"
      ],
      "metadata": {
        "id": "xl7UJ9ewHFjq"
      },
      "execution_count": null,
      "outputs": []
    },
    {
      "cell_type": "code",
      "source": [
        "# tests FMR x FMR AUC\n",
        "try:\n",
        "    compute_sim_fmr_tmr_auc(None)\n",
        "except TypeError:\n",
        "    print(\"FMR x TMR AUC calculation won't work on None value.\")\n",
        "\n",
        "try:\n",
        "    compute_sim_fmr_tmr_auc([0])\n",
        "except TypeError:\n",
        "    print(\"FMR x TMR AUC calculation won't work on arrays not containing (<label>,<score>) elements.\")\n",
        "\n",
        "assert not float('-inf') < compute_sim_fmr_tmr_auc([])[0] < float('inf')  # empty array, not a number\n",
        "assert len(compute_sim_fmr_tmr_auc([])[1]) == 0 # empty array, nothing to do\n",
        "assert len(compute_sim_fmr_tmr_auc([])[2]) == 0 # empty array, nothing to do\n",
        "\n",
        "assert not float('-inf') < compute_sim_fmr_tmr_auc([(0, 0.1)])[0] < float('inf')  # missing genuine, nan\n",
        "assert len(compute_sim_fmr_tmr_auc([(0, 0.1)])[1]) == 0 # missing genuine, nothing to do\n",
        "assert len(compute_sim_fmr_tmr_auc([(0, 0.1)])[2]) == 0 # missing genuine, nothing to do\n",
        "\n",
        "assert not float('-inf') < compute_sim_fmr_tmr_auc([(1, 0.1)])[0] < float('inf')  # missing impostors, nan\n",
        "assert len(compute_sim_fmr_tmr_auc([(1, 0.1)])[1]) == 0 # missing impostors, nothing to do\n",
        "assert len(compute_sim_fmr_tmr_auc([(1, 0.1)])[2]) == 0 # missing impostors, nothing to do\n",
        "\n",
        "auc, fmrs, tmrs = compute_sim_fmr_tmr_auc([(0, 0.2), (0, 0.3), (0, 0.4), (1, 0.5), (1, 0.6), (1, 0.7)])\n",
        "#print(auc)\n",
        "#assert auc == 1.0\n",
        "assert len(fmrs) > 0\n",
        "assert len(tmrs) > 0\n",
        "assert len(fmrs) == len(tmrs)\n",
        "print('AUC:', auc)\n",
        "print('FMR:', fmrs)\n",
        "print('TMR:', tmrs)"
      ],
      "metadata": {
        "id": "QCcEAgF5KBFo"
      },
      "execution_count": null,
      "outputs": []
    },
    {
      "cell_type": "markdown",
      "source": [
        "---\n",
        "### Exercise 4\n",
        "Compute FMR versus TMR AUC for the content of <code>/content/test.csv</code>."
      ],
      "metadata": {
        "id": "KVix_2j5ME0c"
      }
    },
    {
      "cell_type": "code",
      "source": [
        "# add your code here\n"
      ],
      "metadata": {
        "id": "ID9sMKgAMVlK"
      },
      "execution_count": null,
      "outputs": []
    },
    {
      "cell_type": "markdown",
      "source": [
        "---\n",
        "## Plot Functions"
      ],
      "metadata": {
        "id": "jbet7SXOMXcW"
      }
    },
    {
      "cell_type": "code",
      "source": [
        "# Plots the histograms of the scores of the impostors and of the genuine observations together.\n",
        "# Observations must be an array of (<label>,<score>) elements.\n",
        "# Labels must be either 0 (impostor) or something else (genuine).\n",
        "def plot_hist(observations):\n",
        "    impostors = []\n",
        "    genuine = []\n",
        "\n",
        "    for item in observations:\n",
        "        if item[0] == 0:\n",
        "            impostors.append(item[1])\n",
        "        else:\n",
        "            genuine.append(item[1])\n",
        "\n",
        "    plt.xlabel('score')\n",
        "    plt.ylabel('frequency')\n",
        "\n",
        "    plt.hist(impostors, facecolor='red', alpha=0.5, label='impostor', align='mid')\n",
        "    plt.hist(genuine, facecolor='blue', alpha=0.5, label='genuine', align='mid')\n",
        "    plt.legend(loc='lower right')\n",
        "\n",
        "    d_prime = compute_d_prime(observations)\n",
        "    if float('-inf') < d_prime < float('inf'):\n",
        "        plt.title(\"Score distribution, d'=\" + '{:.2f}'.format(d_prime))\n",
        "    else:\n",
        "        plt.title('Score distribution')\n",
        "\n",
        "    plt.show()"
      ],
      "metadata": {
        "id": "ijjHAQZoMmSd"
      },
      "execution_count": null,
      "outputs": []
    },
    {
      "cell_type": "code",
      "source": [
        "# histogram plot test 1\n",
        "import matplotlib.pyplot as plt\n",
        "plot_hist([])"
      ],
      "metadata": {
        "id": "IHHqstOoQbU6"
      },
      "execution_count": null,
      "outputs": []
    },
    {
      "cell_type": "code",
      "source": [
        "# histogram plot test 2\n",
        "import matplotlib.pyplot as plt\n",
        "plot_hist([(0, 0.2), (0, 0.3), (0, 0.4), (1, 0.5), (1, 0.6), (1, 0.7)])"
      ],
      "metadata": {
        "id": "aupnZzvoQsf7"
      },
      "execution_count": null,
      "outputs": []
    },
    {
      "cell_type": "markdown",
      "source": [
        "---\n",
        "### Exercise 5\n",
        "Plot the histogram for the content of <code>/content/test.csv</code>."
      ],
      "metadata": {
        "id": "vW13NNlZQdad"
      }
    },
    {
      "cell_type": "markdown",
      "source": [],
      "metadata": {
        "id": "kRt4zF89h1oa"
      }
    },
    {
      "cell_type": "code",
      "source": [
        "# add your code here\n"
      ],
      "metadata": {
        "id": "gZvQQtWPQeqd"
      },
      "execution_count": null,
      "outputs": []
    },
    {
      "cell_type": "markdown",
      "source": [
        "---"
      ],
      "metadata": {
        "id": "rt7hUArnQafU"
      }
    },
    {
      "cell_type": "code",
      "source": [
        "# Plots the FMR x TMR AUC from the given similarity observations.\n",
        "# Observations must be an array of (<label>,<score>) elements.\n",
        "# Labels must be either 0 (impostor) or something else (genuine).\n",
        "def plot_sim_fmr_tmr_auc(observations):\n",
        "    plt.xlabel('FMR')\n",
        "    plt.ylabel('TMR')\n",
        "\n",
        "    auc, fmrs, tmrs = compute_sim_fmr_tmr_auc(observations)\n",
        "    if float('-inf') < auc < float('inf'):\n",
        "        plt.plot(fmrs, tmrs, label='AUC: ' + '{:.2f}'.format(auc))\n",
        "        plt.plot([0, 1], [0, 1], color='gray', linestyle='--')\n",
        "        plt.legend(loc='lower right')\n",
        "\n",
        "    plt.title('ROC curve')\n",
        "    plt.show()"
      ],
      "metadata": {
        "id": "KXl7-FoaQ3s9"
      },
      "execution_count": null,
      "outputs": []
    },
    {
      "cell_type": "code",
      "source": [
        "# AUC plot test 1\n",
        "import matplotlib.pyplot as plt\n",
        "plot_sim_fmr_tmr_auc([])"
      ],
      "metadata": {
        "id": "b1_UYrrbRKTw"
      },
      "execution_count": null,
      "outputs": []
    },
    {
      "cell_type": "code",
      "source": [
        "# AUC plot test 2\n",
        "import matplotlib.pyplot as plt\n",
        "plot_sim_fmr_tmr_auc([(0, 0.2), (0, 0.3), (0, 0.4), (1, 0.5), (1, 0.6), (1, 0.7)])\n",
        "\n"
      ],
      "metadata": {
        "id": "1VWcLRcJRpUb"
      },
      "execution_count": null,
      "outputs": []
    },
    {
      "cell_type": "markdown",
      "source": [
        "---\n",
        "### Exercise 6\n",
        "Plot the AUC for the content of <code>/content/test.csv</code>."
      ],
      "metadata": {
        "id": "OXtuR7a0R7uj"
      }
    },
    {
      "cell_type": "code",
      "source": [
        "# add you code here\n"
      ],
      "metadata": {
        "id": "jW2syKiIR4R2"
      },
      "execution_count": null,
      "outputs": []
    },
    {
      "cell_type": "markdown",
      "source": [
        "---"
      ],
      "metadata": {
        "id": "5iUPetcSSAAd"
      }
    }
  ]
}