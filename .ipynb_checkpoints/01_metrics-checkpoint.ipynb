{
 "cells": [
  {
   "cell_type": "markdown",
   "metadata": {
    "colab_type": "text",
    "id": "view-in-github"
   },
   "source": [
    "<a href=\"https://colab.research.google.com/github/GSuleh/Biometrics-Lab/blob/main/01_metrics.ipynb\" target=\"_parent\"><img src=\"https://colab.research.google.com/assets/colab-badge.svg\" alt=\"Open In Colab\"/></a>"
   ]
  },
  {
   "cell_type": "markdown",
   "metadata": {
    "id": "W2h79Hrpn2yV"
   },
   "source": [
    "\n",
    "---\n",
    "\n",
    "Simple implementation of biometric recognition-related metrics.  \n",
    "\n",
    "Language: Python 3  \n",
    "\n",
    "Needed libraries:\n",
    "* matplotlib (https://matplotlib.org/)"
   ]
  },
  {
   "cell_type": "markdown",
   "metadata": {
    "id": "BE8EQN9HqiV5"
   },
   "source": [
    "## Needed libraries and files"
   ]
  },
  {
   "cell_type": "code",
   "execution_count": 4,
   "metadata": {
    "id": "hqB-XRACwmjz"
   },
   "outputs": [
    {
     "name": "stdout",
     "output_type": "stream",
     "text": [
      "Requirement already satisfied: gdown in c:\\users\\gerry\\anaconda3\\lib\\site-packages (5.2.0)\n",
      "Requirement already satisfied: beautifulsoup4 in c:\\users\\gerry\\anaconda3\\lib\\site-packages (from gdown) (4.9.3)\n",
      "Requirement already satisfied: filelock in c:\\users\\gerry\\anaconda3\\lib\\site-packages (from gdown) (3.8.0)\n",
      "Requirement already satisfied: requests[socks] in c:\\users\\gerry\\anaconda3\\lib\\site-packages (from gdown) (2.24.0)\n",
      "Requirement already satisfied: tqdm in c:\\users\\gerry\\anaconda3\\lib\\site-packages (from gdown) (4.50.2)\n",
      "Requirement already satisfied: soupsieve>1.2 in c:\\users\\gerry\\anaconda3\\lib\\site-packages (from beautifulsoup4->gdown) (2.0.1)\n",
      "Requirement already satisfied: chardet<4,>=3.0.2 in c:\\users\\gerry\\anaconda3\\lib\\site-packages (from requests[socks]->gdown) (3.0.4)\n",
      "Requirement already satisfied: idna<3,>=2.5 in c:\\users\\gerry\\anaconda3\\lib\\site-packages (from requests[socks]->gdown) (2.10)\n",
      "Requirement already satisfied: urllib3!=1.25.0,!=1.25.1,<1.26,>=1.21.1 in c:\\users\\gerry\\anaconda3\\lib\\site-packages (from requests[socks]->gdown) (1.25.11)\n",
      "Requirement already satisfied: certifi>=2017.4.17 in c:\\users\\gerry\\anaconda3\\lib\\site-packages (from requests[socks]->gdown) (2020.6.20)\n",
      "Requirement already satisfied: PySocks!=1.5.7,>=1.5.6 in c:\\users\\gerry\\anaconda3\\lib\\site-packages (from requests[socks]->gdown) (1.7.1)\n"
     ]
    },
    {
     "name": "stderr",
     "output_type": "stream",
     "text": [
      "DEPRECATION: pyodbc 4.0.0-unsupported has a non-standard version number. pip 24.1 will enforce this behaviour change. A possible replacement is to upgrade to a newer version of pyodbc or contact the author to suggest that they release a version with a conforming version number. Discussion can be found at https://github.com/pypa/pip/issues/12063\n",
      "\n",
      "[notice] A new release of pip is available: 24.0 -> 24.2\n",
      "[notice] To update, run: python.exe -m pip install --upgrade pip\n",
      "Downloading...\n",
      "From: https://drive.google.com/uc?id=1lbYw3ZxXlaxY9yoT8ASeVSlwDfvQjcuF\n",
      "To: C:\\Users\\gerry\\Desktop\\Biometrics-Lab\\test.csv\n",
      "\n",
      "  0%|          | 0.00/979 [00:00<?, ?B/s]\n",
      "100%|##########| 979/979 [00:00<00:00, 978kB/s]\n"
     ]
    }
   ],
   "source": [
    "# download of CSV file with biometric system output samples\n",
    "!pip install gdown\n",
    "!gdown 1lbYw3ZxXlaxY9yoT8ASeVSlwDfvQjcuF"
   ]
  },
  {
   "cell_type": "code",
   "execution_count": 8,
   "metadata": {
    "id": "8qixiaEUxwUV"
   },
   "outputs": [
    {
     "name": "stdout",
     "output_type": "stream",
     "text": [
      "104 content/test.csv\n",
      "# label [0: impostor, 1: genuine], score\n",
      "# impostor samples\n",
      "0,0.1056\n",
      "0,0.5825\n",
      "0,0.2929\n",
      "0,0.2607\n",
      "0,0.2525\n",
      "0,0.1964\n",
      "0,0.3671\n",
      "0,0.2992\n",
      "0,0.4913\n",
      "0,0.1809\n",
      "0,0.3676\n",
      "0,0.3794\n",
      "0,0.1118\n",
      "0,0.5050\n",
      "0,0.4461\n",
      "0,0.2626\n",
      "0,0.2027\n",
      "0,0.0449\n",
      "0,0.2442\n",
      "0,0.1561\n",
      "0,0.0583\n",
      "0,0.3961\n",
      "0,0.1939\n",
      "0,0.3543\n",
      "0,0.6246\n",
      "0,0.0618\n",
      "0,0.2086\n",
      "0,0.5374\n",
      "0,0.2288\n",
      "0,0.6175\n",
      "0,0.3381\n",
      "0,0.2324\n",
      "0,0.4454\n",
      "0,0.4229\n",
      "0,0.5364\n",
      "0,0.3550\n",
      "0,0.3981\n",
      "0,0.5387\n",
      "0,0.3905\n",
      "0,0.5475\n",
      "0,0.3772\n",
      "0,0.4319\n",
      "0,0.3054\n",
      "0,0.5976\n",
      "0,0.4844\n",
      "0,0.5278\n",
      "0,0.3787\n",
      "0,0.5438\n",
      "0,0.3291\n",
      "0,0.0554\n",
      "\n",
      "# genuine samples\n",
      "1,0.7392\n",
      "1,0.5534\n",
      "1,0.6483\n",
      "1,0.6937\n",
      "1,0.5206\n",
      "1,0.7320\n",
      "1,1.0362\n",
      "1,0.6279\n",
      "1,0.7343\n",
      "1,0.9175\n",
      "1,0.6404\n",
      "1,0.8470\n",
      "1,0.3945\n",
      "1,0.5561\n",
      "1,1.1340\n",
      "1,0.7414\n",
      "1,0.3848\n",
      "1,0.7132\n",
      "1,0.3967\n",
      "1,0.5531\n",
      "1,0.8643\n",
      "1,1.0094\n",
      "1,0.6850\n",
      "1,0.8294\n",
      "1,0.7978\n",
      "1,0.7453\n",
      "1,0.4288\n",
      "1,0.4733\n",
      "1,0.8677\n",
      "1,0.9161\n",
      "1,0.8347\n",
      "1,0.6816\n",
      "1,0.3869\n",
      "1,1.1378\n",
      "1,0.8006\n",
      "1,0.9798\n",
      "1,0.8548\n",
      "1,1.0816\n",
      "1,0.5985\n",
      "1,0.5999\n",
      "1,0.7260\n",
      "1,0.3888\n",
      "1,0.9227\n",
      "1,0.6418\n",
      "1,0.5987\n",
      "1,0.7297\n",
      "1,0.9816\n",
      "1,0.8379\n",
      "1,0.6145\n",
      "1,0.9720\n"
     ]
    }
   ],
   "source": [
    "# sanity check: shows the content of the downloaded file\n",
    "! wc -l content/test.csv\n",
    "! cat content/test.csv"
   ]
  },
  {
   "cell_type": "code",
   "execution_count": 9,
   "metadata": {
    "id": "8GvY-Z3cl_4P"
   },
   "outputs": [
    {
     "name": "stdout",
     "output_type": "stream",
     "text": [
      "3.3.2\n"
     ]
    }
   ],
   "source": [
    "# imported libraries\n",
    "import matplotlib as plt\n",
    "print(plt.__version__)"
   ]
  },
  {
   "cell_type": "markdown",
   "metadata": {
    "id": "iwOBgbBKqZ8N"
   },
   "source": [
    "## Auxiliary functions."
   ]
  },
  {
   "cell_type": "code",
   "execution_count": 10,
   "metadata": {
    "id": "vWFcWuLIqFk6"
   },
   "outputs": [],
   "source": [
    "# Sums all the values in the given list, using pairwise summation to reduce\n",
    "# round-off error.\n",
    "def _pairwise_sum(values):\n",
    "  sum = float('NaN') # nothing computed, returns not-a-number\n",
    "\n",
    "  if len(values) == 0:\n",
    "    sum = 0.0 # nothing to sum, returns zero\n",
    "\n",
    "  elif len(values) == 1:\n",
    "    sum = float(values[0]) # one element, returns it\n",
    "\n",
    "  elif len(values) == 2:\n",
    "    sum = float(values[0] + values[1]) # two elements, returns their sum\n",
    "\n",
    "  else:\n",
    "    i = int(len(values) / 2)\n",
    "    sum = _pairwise_sum(values[0:i]) + _pairwise_sum(values[i:len(values)]) # recursive call\n",
    "\n",
    "  return sum"
   ]
  },
  {
   "cell_type": "code",
   "execution_count": 11,
   "metadata": {
    "id": "uM3CKSNzs4M-"
   },
   "outputs": [
    {
     "name": "stdout",
     "output_type": "stream",
     "text": [
      "All tests passed.\n"
     ]
    }
   ],
   "source": [
    "def test_pairwise_sum():\n",
    "    # Tests for the pairwise sum function\n",
    "    \n",
    "    # Empty list, should return 0.0\n",
    "    assert _pairwise_sum([]) == 0.0, \"Failed on empty list\"\n",
    "    \n",
    "    # One element, should return the element itself\n",
    "    assert _pairwise_sum([10]) == 10.0, \"Failed on single element list\"\n",
    "    \n",
    "    # Two elements, should return their sum\n",
    "    assert _pairwise_sum([10, 20]) == 30.0, \"Failed on two element list\"\n",
    "    \n",
    "    # Even number of elements\n",
    "    assert _pairwise_sum([10, 20, -30, -0.5]) == -0.5, \"Failed on four element list\"\n",
    "    \n",
    "    # Odd number of elements\n",
    "    assert _pairwise_sum([10, 20, -30]) == 0.0, \"Failed on three element list\"\n",
    "    \n",
    "    # Odd number of elements with some decimal rounding\n",
    "    assert _pairwise_sum([10, 20, -30, -0.5, 0.5]) == 0.0, \"Failed on five element list\"\n",
    "    \n",
    "    # Handle None value, should raise a TypeError\n",
    "    try:\n",
    "        _pairwise_sum(None)\n",
    "        assert False, \"Expected TypeError on None\"\n",
    "    except TypeError:\n",
    "        pass  # Expected behavior\n",
    "    \n",
    "    # Large list to test the sum accuracy and performance\n",
    "    assert _pairwise_sum([1] * 1000) == 1000.0, \"Failed on large list of 1000 ones\"\n",
    "    \n",
    "    # Non-numeric values should raise a TypeError\n",
    "    try:\n",
    "        _pairwise_sum([1, 2, \"a\", 4])\n",
    "        assert False, \"Expected TypeError on non-numeric list\"\n",
    "    except TypeError:\n",
    "        pass  # Expected behavior\n",
    "\n",
    "    print(\"All tests passed.\")\n",
    "\n",
    "\n",
    "# Run the tests\n",
    "test_pairwise_sum()"
   ]
  },
  {
   "cell_type": "markdown",
   "metadata": {
    "id": "l_49p-bKtW6f"
   },
   "source": [
    "---"
   ]
  },
  {
   "cell_type": "code",
   "execution_count": 12,
   "metadata": {
    "id": "wrFAqmB-tRdG"
   },
   "outputs": [],
   "source": [
    "# Computes the variance of the given values.\n",
    "def _compute_var(values):\n",
    "  if values is None or len(values) == 0:\n",
    "        return float('NaN')  # Invalid input or no data, return NaN\n",
    "\n",
    "  if len(values) > 0:\n",
    "    # mean of values\n",
    "    mean = _pairwise_sum(values) / len(values)\n",
    "\n",
    "    # deviations\n",
    "    deviations = [(v - mean) ** 2.0 for v in values]\n",
    "\n",
    "    # variance\n",
    "    var = _pairwise_sum(deviations) / len(deviations)\n",
    "\n",
    "  return var"
   ]
  },
  {
   "cell_type": "code",
   "execution_count": 13,
   "metadata": {
    "id": "SdWGKlfxun0g"
   },
   "outputs": [
    {
     "name": "stdout",
     "output_type": "stream",
     "text": [
      "All variance tests passed.\n"
     ]
    }
   ],
   "source": [
    "# Tests for the _compute_var function\n",
    "def test_compute_var():\n",
    "    # Test with None input, should raise TypeError or return NaN\n",
    "    try:\n",
    "        _compute_var(None)\n",
    "        assert False, \"Expected TypeError on None input\"\n",
    "    except TypeError:\n",
    "        pass  # Expected behavior\n",
    "    except Exception:\n",
    "        pass  # Returning NaN is acceptable\n",
    "\n",
    "    # Test with an empty list, should return NaN\n",
    "    assert not (float('-inf') < _compute_var([]) < float('inf')), \"Failed on empty list\"\n",
    "\n",
    "    # Test with one element, variance should be 0.0\n",
    "    assert _compute_var([10]) == 0.0, \"Failed on single element list\"\n",
    "\n",
    "    # Test with two elements, variance should be positive\n",
    "    var = _compute_var([10, 20])\n",
    "    assert var > 0, \"Failed on two element list\"\n",
    "\n",
    "    # Test with even number of elements, variance should be calculated correctly\n",
    "    var = _compute_var([10, 20, -30, -0.5])\n",
    "    assert var > 0, \"Failed on four element list\"\n",
    "\n",
    "    # Test with odd number of elements, variance should be calculated correctly\n",
    "    var = _compute_var([10, 20, -30])\n",
    "    assert var > 0, \"Failed on three element list\"\n",
    "\n",
    "    # Test with another odd number of elements with decimals\n",
    "    var = _compute_var([10, 20, -30, -0.5, 0.5])\n",
    "    assert var > 0, \"Failed on five element list\"\n",
    "\n",
    "    # Test with a large dataset\n",
    "    large_dataset = [1] * 1000\n",
    "    assert _compute_var(large_dataset) == 0.0, \"Failed on large dataset with identical elements\"\n",
    "\n",
    "    print(\"All variance tests passed.\")\n",
    "\n",
    "\n",
    "# Run the tests\n",
    "test_compute_var()"
   ]
  },
  {
   "cell_type": "markdown",
   "metadata": {
    "id": "jC6T1ixzvVDQ"
   },
   "source": [
    "---"
   ]
  },
  {
   "cell_type": "code",
   "execution_count": 14,
   "metadata": {
    "id": "xFhJQiurvWW1"
   },
   "outputs": [],
   "source": [
    "# Loads data from the CSV file stored in the given file path.\n",
    "# Expected file line format: <label>,<score>\n",
    "# Comment lines starting with \"#\" will be ignored.\n",
    "# Output: array of (<label>,<score>) elements.\n",
    "def load_data(file_path):\n",
    "  # output\n",
    "  output = [] # empty content\n",
    "\n",
    "  # reads each line of the file,\n",
    "  # ignoring empty lines and the ones starting with '#'\n",
    "  with open(file_path) as f:\n",
    "    for line in f:\n",
    "      content = line.strip().split(',')\n",
    "      if len(content) > 0 and len(content[0]) > 0 and content[0][0] != '#': # valid line; other will be ignored\n",
    "        label = int(content[0])\n",
    "        score = float(content[1])\n",
    "\n",
    "        output.append((label, score))\n",
    "\n",
    "  return output"
   ]
  },
  {
   "cell_type": "code",
   "execution_count": 15,
   "metadata": {
    "id": "tYJ5fRGyzALY"
   },
   "outputs": [
    {
     "name": "stdout",
     "output_type": "stream",
     "text": [
      "Can't read a file that doesn't exist.\n",
      "observations: 100 [(0, 0.1056), (0, 0.5825), (0, 0.2929), (0, 0.2607), (0, 0.2525), (0, 0.1964), (0, 0.3671), (0, 0.2992), (0, 0.4913), (0, 0.1809), (0, 0.3676), (0, 0.3794), (0, 0.1118), (0, 0.505), (0, 0.4461), (0, 0.2626), (0, 0.2027), (0, 0.0449), (0, 0.2442), (0, 0.1561), (0, 0.0583), (0, 0.3961), (0, 0.1939), (0, 0.3543), (0, 0.6246), (0, 0.0618), (0, 0.2086), (0, 0.5374), (0, 0.2288), (0, 0.6175), (0, 0.3381), (0, 0.2324), (0, 0.4454), (0, 0.4229), (0, 0.5364), (0, 0.355), (0, 0.3981), (0, 0.5387), (0, 0.3905), (0, 0.5475), (0, 0.3772), (0, 0.4319), (0, 0.3054), (0, 0.5976), (0, 0.4844), (0, 0.5278), (0, 0.3787), (0, 0.5438), (0, 0.3291), (0, 0.0554), (1, 0.7392), (1, 0.5534), (1, 0.6483), (1, 0.6937), (1, 0.5206), (1, 0.732), (1, 1.0362), (1, 0.6279), (1, 0.7343), (1, 0.9175), (1, 0.6404), (1, 0.847), (1, 0.3945), (1, 0.5561), (1, 1.134), (1, 0.7414), (1, 0.3848), (1, 0.7132), (1, 0.3967), (1, 0.5531), (1, 0.8643), (1, 1.0094), (1, 0.685), (1, 0.8294), (1, 0.7978), (1, 0.7453), (1, 0.4288), (1, 0.4733), (1, 0.8677), (1, 0.9161), (1, 0.8347), (1, 0.6816), (1, 0.3869), (1, 1.1378), (1, 0.8006), (1, 0.9798), (1, 0.8548), (1, 1.0816), (1, 0.5985), (1, 0.5999), (1, 0.726), (1, 0.3888), (1, 0.9227), (1, 0.6418), (1, 0.5987), (1, 0.7297), (1, 0.9816), (1, 0.8379), (1, 0.6145), (1, 0.972)]\n"
     ]
    }
   ],
   "source": [
    "# tests loading of CSV file\n",
    "try:\n",
    "  load_data('nofile.csv')\n",
    "except FileNotFoundError:\n",
    "  print(\"Can't read a file that doesn't exist.\")\n",
    "\n",
    "output = load_data('content/test.csv')\n",
    "assert len(output) > 0\n",
    "print('observations:', len(output), output)"
   ]
  },
  {
   "cell_type": "markdown",
   "metadata": {
    "id": "kOHywXcW0IFl"
   },
   "source": [
    "---\n",
    "\n",
    "## d' Implementation"
   ]
  },
  {
   "cell_type": "code",
   "execution_count": 16,
   "metadata": {
    "id": "8LJuvw4T0p7X"
   },
   "outputs": [],
   "source": [
    "# Computes d-prime for the given observations.\n",
    "# Observations must be an array of (<label>,<score>) elements.\n",
    "# Labels must be either 0 (impostor) or something else (genuine).\n",
    "# If either the number of impostors or genuine observations is zero,\n",
    "# it returns 'NaN' as d-prime.\n",
    "def compute_d_prime(observations):\n",
    "  # output\n",
    "  d_prime = float('NaN') # nothing computed, returns not-a-number\n",
    "\n",
    "  # separates genuine and impostor scores\n",
    "  genuine_scores = []\n",
    "  impostor_scores = []\n",
    "\n",
    "  # for each given observation\n",
    "  for obs in observations:\n",
    "    if obs[0] == 0:  # impostor\n",
    "      impostor_scores.append(obs[1])\n",
    "    else:  # genuine\n",
    "      genuine_scores.append(obs[1])\n",
    "\n",
    "  # if there are values for both classes (impostor and genuine)\n",
    "  if len(genuine_scores) > 0 and len(impostor_scores) > 0:\n",
    "    # computes mean values\n",
    "    genuine_mean = _pairwise_sum(genuine_scores) / len(genuine_scores)\n",
    "    impostor_mean = _pairwise_sum(impostor_scores) / len(impostor_scores)\n",
    "\n",
    "    # computes variances\n",
    "    genuine_var = _compute_var(genuine_scores)\n",
    "    impostor_var = _compute_var(impostor_scores)\n",
    "\n",
    "    # d-prime computation\n",
    "    d_prime = 2.0 ** 0.5 * abs(genuine_mean - impostor_mean) / (genuine_var + impostor_var) ** 0.5\n",
    "\n",
    "  return d_prime"
   ]
  },
  {
   "cell_type": "code",
   "execution_count": 18,
   "metadata": {
    "id": "aLaK08Lb3EAn"
   },
   "outputs": [
    {
     "name": "stdout",
     "output_type": "stream",
     "text": [
      "d-prime calculation won't work on None value.\n",
      "d-prime calculation won't work on arrays not containing (<label>,<score>) elements.\n"
     ]
    }
   ],
   "source": [
    "# tests d-prime computation\n",
    "try:\n",
    "    compute_d_prime(None)\n",
    "except TypeError:\n",
    "    print(\"d-prime calculation won't work on None value.\")\n",
    "\n",
    "try:\n",
    "    compute_d_prime([0])\n",
    "except TypeError:\n",
    "    print(\"d-prime calculation won't work on arrays not containing (<label>,<score>) elements.\")\n",
    "\n",
    "assert not float('-inf') < compute_d_prime([]) < float('inf')  # empty array, not a number\n",
    "assert not float('-inf') < compute_d_prime([(0, 0.1)]) < float('inf')  # missing genuine, not a number\n",
    "assert not float('-inf') < compute_d_prime([(1, 0.1)]) < float('inf')  # missing impostors, not a number\n",
    "\n",
    "d_prime = compute_d_prime([(0, 2), (0, 4), (1, 0), (1, 2)])\n",
    "assert d_prime == 2.0"
   ]
  },
  {
   "cell_type": "markdown",
   "metadata": {
    "id": "9g5ZCVAAGT8E"
   },
   "source": [
    "---\n",
    "### Exercise 1\n",
    "Compute d' for the content of <code>/content/test.csv</code>."
   ]
  },
  {
   "cell_type": "code",
   "execution_count": 19,
   "metadata": {
    "id": "uxKbKJ4HGcrp"
   },
   "outputs": [
    {
     "name": "stdout",
     "output_type": "stream",
     "text": [
      "d-prime for test.csv: 2.13324462836214\n"
     ]
    }
   ],
   "source": [
    "# Load observations from the test.csv file\n",
    "observations = load_data('content/test.csv')\n",
    "\n",
    "# Compute d-prime\n",
    "d_prime_value = compute_d_prime(observations)\n",
    "\n",
    "# Print the result\n",
    "print(f\"d-prime for test.csv: {d_prime_value}\")\n"
   ]
  },
  {
   "cell_type": "markdown",
   "metadata": {
    "id": "0lV20stp51yn"
   },
   "source": [
    "---\n",
    "## FMR and FNMR Implementation"
   ]
  },
  {
   "cell_type": "code",
   "execution_count": 26,
   "metadata": {
    "id": "PoKPxgoK51Nn"
   },
   "outputs": [],
   "source": [
    "# Computes FMR from the given similarity observations,\n",
    "# according to the given threshold.\n",
    "# Observations must be an array of (<label>,<score>) elements.\n",
    "# Labels must be either 0 (impostor) or something else (genuine).\n",
    "# If the number of impostors is zero, it returns 'NaN' as FMR.\n",
    "def compute_sim_fmr(observations, threshold):\n",
    "  fmr = float('NaN') # nothing computed, returns not-a-number\n",
    "\n",
    "  # counters\n",
    "  impostor_count = 0\n",
    "  false_match_count = 0\n",
    "\n",
    "  # for each observation\n",
    "  for obs in observations:\n",
    "    if obs[0] == 0:  # impostor\n",
    "      impostor_count = impostor_count + 1\n",
    "      if obs[1] >= threshold:\n",
    "        false_match_count = false_match_count + 1\n",
    "\n",
    "  # FMR computation\n",
    "  if impostor_count > 0:\n",
    "    fmr = false_match_count / impostor_count\n",
    "\n",
    "  return fmr"
   ]
  },
  {
   "cell_type": "code",
   "execution_count": 27,
   "metadata": {
    "id": "WZeC6Fa07n-t"
   },
   "outputs": [
    {
     "name": "stdout",
     "output_type": "stream",
     "text": [
      "FMR calculation won't work on None value.\n",
      "FMR calculation won't work on arrays not containing (<label>,<score>) elements.\n"
     ]
    }
   ],
   "source": [
    "# tests FMR computation\n",
    "try:\n",
    "    compute_sim_fmr(None, 0.0)\n",
    "except TypeError:\n",
    "    print(\"FMR calculation won't work on None value.\")\n",
    "\n",
    "try:\n",
    "    compute_sim_fmr([0], 0.0)\n",
    "except TypeError:\n",
    "    print(\"FMR calculation won't work on arrays not containing (<label>,<score>) elements.\")\n",
    "\n",
    "assert not float('-inf') < compute_sim_fmr([], 0.0) < float('inf')  # empty array, not a number\n",
    "assert float('-inf') < compute_sim_fmr([(0, 0.1)], 0.0) < float('inf')  # missing genuine, ok\n",
    "assert not float('-inf') < compute_sim_fmr([(1, 0.1)], 0.0) < float('inf')  # missing impostors, not a number\n",
    "\n",
    "fmr = compute_sim_fmr([(0, 0.1), (0, 0.3), (1, 0.0)], 0.25)\n",
    "assert fmr == 0.5\n",
    "\n",
    "fmr = compute_sim_fmr([(0, 0.1), (0, 0.3), (1, 0.0)], 0.35)\n",
    "assert fmr == 0.0\n",
    "\n",
    "fmr = compute_sim_fmr([(0, 0.1), (0, 0.3), (1, 0.0)], 0.05)\n",
    "assert fmr == 1.0\n"
   ]
  },
  {
   "cell_type": "markdown",
   "metadata": {
    "id": "qhAnGyik9qDk"
   },
   "source": [
    "---\n",
    "### Exercise 2\n",
    "What is the meaning of the threshold?"
   ]
  },
  {
   "cell_type": "markdown",
   "metadata": {
    "id": "TDg3RbNLGDJA"
   },
   "source": [
    "*Add your explanation here:\n",
    "\n",
    "The threshold in the context of similarity-based biometric systems is a predefined value that determines whether a score should be considered a match or not. It is the boundary value that separates what is considered a \"match\" from what is considered a \"non-match\". If an impostor's similarity score exceeds the threshold, the system mistakenly identifies them as a genuine user.*\n",
    "\n",
    "\n",
    "\n",
    "---"
   ]
  },
  {
   "cell_type": "code",
   "execution_count": 28,
   "metadata": {
    "id": "WgsSrHo79rRa"
   },
   "outputs": [],
   "source": [
    "# Computes FNMR from the given similarity observations,\n",
    "# according to the given threshold.\n",
    "# Observations must be an array of (<label>,<score>) elements.\n",
    "# Labels must be either 0 (impostor) or something else (genuine).\n",
    "# If the number of genuine observations is zero, it returns 'NaN' as FNMR.\n",
    "def compute_sim_fnmr(observations, threshold):\n",
    "  fnmr = float('NaN') # nothing computed, returns not-a-number\n",
    "\n",
    "  # counters\n",
    "  genuine_count = 0\n",
    "  false_non_match_count = 0\n",
    "\n",
    "  # for each observation\n",
    "  for obs in observations:\n",
    "    if obs[0] != 0:  # genuine observation\n",
    "      genuine_count = genuine_count + 1\n",
    "\n",
    "      if obs[1] < threshold:\n",
    "        false_non_match_count = false_non_match_count + 1\n",
    "\n",
    "  # FNMR computation\n",
    "  if genuine_count > 0:\n",
    "    fnmr = false_non_match_count / genuine_count\n",
    "\n",
    "  return fnmr"
   ]
  },
  {
   "cell_type": "code",
   "execution_count": 29,
   "metadata": {
    "id": "1ryWINm7_I9h"
   },
   "outputs": [
    {
     "name": "stdout",
     "output_type": "stream",
     "text": [
      "FNMR calculation won't work on None value.\n",
      "FNMR calculation won't work on arrays not containing (<label>,<score>) elements.\n"
     ]
    }
   ],
   "source": [
    "# tests FNMR computation\n",
    "try:\n",
    "    compute_sim_fnmr(None, 0.0)\n",
    "except TypeError:\n",
    "    print(\"FNMR calculation won't work on None value.\")\n",
    "\n",
    "try:\n",
    "    compute_sim_fnmr([0], 0.0)\n",
    "except TypeError:\n",
    "    print(\"FNMR calculation won't work on arrays not containing (<label>,<score>) elements.\")\n",
    "\n",
    "assert not float('-inf') < compute_sim_fnmr([], 0.0) < float('inf')  # empty array, not a number\n",
    "assert not float('-inf') < compute_sim_fnmr([(0, 0.1)], 0.0) < float('inf')  # missing genuine, not a number\n",
    "assert float('-inf') < compute_sim_fnmr([(1, 0.1)], 0.0) < float('inf')  # missing impostors, ok\n",
    "\n",
    "fnmr = compute_sim_fnmr([(0, 0.0), (1, 0.1), (1, 0.3)], 0.25)\n",
    "assert fnmr == 0.5\n",
    "\n",
    "fnmr = compute_sim_fnmr([(0, 0.0), (1, 0.1), (1, 0.3)], 0.5)\n",
    "assert fnmr == 1.0\n",
    "\n",
    "fnmr = compute_sim_fnmr([(0, 0.0), (1, 0.1), (1, 0.3)], 0.05)\n",
    "assert fnmr == 0.0"
   ]
  },
  {
   "cell_type": "markdown",
   "metadata": {
    "id": "r_MgdAkqAGBq"
   },
   "source": [
    "---"
   ]
  },
  {
   "cell_type": "code",
   "execution_count": 30,
   "metadata": {
    "id": "9ezMzHouAHaf"
   },
   "outputs": [],
   "source": [
    "# Computes FNMR and FMR at EER from the given similarity observations.\n",
    "# Observations must be an array of (<label>,<score>) elements.\n",
    "# Labels must be either 0 (impostor) or something else (genuine).\n",
    "# Output: FNMR, FMR, EER_THRESHOLD.\n",
    "# If either the number of impostors or genuine observations is zero,\n",
    "# it returns 'NaN', 'NaN', 'NaN'.\n",
    "def compute_sim_fmr_fnmr_eer(observations):\n",
    "    # computed FNMR and FMR at EER, and EER threshold\n",
    "    output_fnmr = float('NaN') # nothing computed, returns not-a-number\n",
    "    output_fmr = float('NaN')\n",
    "    output_threshold = float('NaN')\n",
    "\n",
    "    # holds the difference between FMR and FNMR\n",
    "    fnmr_fmr_diff = float('inf') # a very large float\n",
    "\n",
    "    # sorted list of scores\n",
    "    scores = sorted([obs[1] for obs in observations])\n",
    "    if len(scores) > 0:\n",
    "      # for each score taken as threshold\n",
    "      for threshold in scores:\n",
    "        current_fnmr = compute_sim_fnmr(observations, threshold)\n",
    "        current_fmr = compute_sim_fmr(observations, threshold)\n",
    "\n",
    "        # cancels computation if any of the FNMR or FMR values are 'NaN' (impossible to compute them)\n",
    "        if not float('-inf') < current_fnmr < float('inf') or not float('-inf') < current_fmr < float('inf'):\n",
    "          break\n",
    "\n",
    "        # updates the difference between FNMR and FMR, if it is the case\n",
    "        current_diff = abs(current_fnmr - current_fmr)\n",
    "        if current_diff <= fnmr_fmr_diff:\n",
    "          fnmr_fmr_diff = current_diff\n",
    "\n",
    "          # updates current values\n",
    "          output_fnmr = current_fnmr\n",
    "          output_fmr = current_fmr\n",
    "          output_threshold = threshold\n",
    "\n",
    "        else:\n",
    "          # difference will start to increase, nothing to do anymore\n",
    "          break\n",
    "\n",
    "    return output_fnmr, output_fmr, output_threshold"
   ]
  },
  {
   "cell_type": "code",
   "execution_count": 31,
   "metadata": {
    "id": "2AW32J0lEgyQ"
   },
   "outputs": [
    {
     "name": "stdout",
     "output_type": "stream",
     "text": [
      "FNMR, FMR @ EER calculation won't work on None value.\n",
      "FNMR, FMR @ EER calculation won't work on arrays not containing (<label>,<score>) elements.\n"
     ]
    }
   ],
   "source": [
    "# tests FNMR and FMR at EER\n",
    "try:\n",
    "    compute_sim_fmr_fnmr_eer(None)\n",
    "except TypeError:\n",
    "    print(\"FNMR, FMR @ EER calculation won't work on None value.\")\n",
    "\n",
    "try:\n",
    "    compute_sim_fmr_fnmr_eer([0])\n",
    "except TypeError:\n",
    "    print(\"FNMR, FMR @ EER calculation won't work on arrays not containing (<label>,<score>) elements.\")\n",
    "\n",
    "assert not float('-inf') < compute_sim_fmr_fnmr_eer([])[0] < float('inf')  # empty array, not a number\n",
    "assert not float('-inf') < compute_sim_fmr_fnmr_eer([])[1] < float('inf')  # empty array, not a number\n",
    "assert not float('-inf') < compute_sim_fmr_fnmr_eer([])[2] < float('inf')  # empty array, not a number\n",
    "\n",
    "assert not float('-inf') < compute_sim_fmr_fnmr_eer([(0, 0.1)])[0] < float('inf')  # missing genuine, nan\n",
    "assert not float('-inf') < compute_sim_fmr_fnmr_eer([(0, 0.1)])[1] < float('inf')  # missing genuine, nan\n",
    "assert not float('-inf') < compute_sim_fmr_fnmr_eer([(0, 0.1)])[2] < float('inf')  # missing genuine, nan\n",
    "\n",
    "assert not float('-inf') < compute_sim_fmr_fnmr_eer([(1, 0.1)])[0] < float('inf')  # missing impostors, nan\n",
    "assert not float('-inf') < compute_sim_fmr_fnmr_eer([(1, 0.1)])[1] < float('inf')  # missing impostors, nan\n",
    "assert not float('-inf') < compute_sim_fmr_fnmr_eer([(1, 0.1)])[2] < float('inf')  # missing impostors, nan\n",
    "\n",
    "fnmr, fmr, eer = compute_sim_fmr_fnmr_eer([(0, 0.2), (0, 0.3), (0, 0.4), (1, 0.5), (1, 0.6), (1, 0.7)])\n",
    "assert fnmr == 0.0\n",
    "assert fmr == 0.0\n",
    "assert eer == 0.5"
   ]
  },
  {
   "cell_type": "markdown",
   "metadata": {
    "id": "wX-xABzQFnIU"
   },
   "source": [
    "---\n",
    "### Exercise 3\n",
    "Compute FNMR and FMR at EER for the content of <code>/content/test.csv</code>."
   ]
  },
  {
   "cell_type": "code",
   "execution_count": 33,
   "metadata": {
    "id": "FqzQwaYlF3xk"
   },
   "outputs": [
    {
     "name": "stdout",
     "output_type": "stream",
     "text": [
      "FNMR at EER: 0.16\n",
      "FMR at EER: 0.16\n",
      "EER Threshold: 0.5374\n"
     ]
    }
   ],
   "source": [
    "# Load observations from the test.csv file\n",
    "observations = load_data('content/test.csv')\n",
    "\n",
    "# Compute FNMR, FMR, and EER threshold\n",
    "fnmr, fmr, eer_threshold = compute_sim_fmr_fnmr_eer(observations)\n",
    "\n",
    "# Print the results\n",
    "print(f\"FNMR at EER: {fnmr}\")\n",
    "print(f\"FMR at EER: {fmr}\")\n",
    "print(f\"EER Threshold: {eer_threshold}\")\n"
   ]
  },
  {
   "cell_type": "markdown",
   "metadata": {
    "id": "jxkZU2PrGOuk"
   },
   "source": [
    "---\n",
    "## FMR versus TMR AUC"
   ]
  },
  {
   "cell_type": "code",
   "execution_count": 34,
   "metadata": {
    "id": "xl7UJ9ewHFjq"
   },
   "outputs": [],
   "source": [
    "# Computes FMR x TMR (a.k.a. 1.0 - FNMR) AUC from the given similarity observations.\n",
    "# Observations must be an array of (<label>,<score>) elements.\n",
    "# Labels must be either 0 (impostor) or something else (genuine).\n",
    "# Output: AUC, array with FMR values, array with TMR values.\n",
    "# If either the number of impostors or genuine observations is zero, it returns 'NaN', [], [].\n",
    "def compute_sim_fmr_tmr_auc(observations):\n",
    "    # output values\n",
    "    auc = float('NaN') # nothing computed, returns not-a-number\n",
    "    fmrs = []\n",
    "    tmrs = []\n",
    "\n",
    "    # sorted list of scores\n",
    "    scores = sorted([obs[1] for obs in observations])\n",
    "    if len(scores) > 0:\n",
    "      # for each score taken as a threshold\n",
    "      for threshold in scores:\n",
    "        current_fmr = compute_sim_fmr(observations, threshold)\n",
    "        current_fnmr = compute_sim_fnmr(observations, threshold)\n",
    "\n",
    "        # cancels computation if any of the FNMR or FMR values are 'NaN' (impossible to compute them)\n",
    "        if not float('-inf') < current_fmr < float('inf') or not float('-inf') < current_fnmr < float('inf'):\n",
    "          break\n",
    "\n",
    "        # adds the computed values to the proper lists\n",
    "        fmrs.append(current_fmr)\n",
    "        tmrs.append(1.0 - current_fnmr)\n",
    "\n",
    "      # computes the AUC\n",
    "      if len(fmrs) > 0 and len(tmrs) > 0:\n",
    "        # adds the last points on [0.0, 0.0] for completeness\n",
    "        fmrs.append(0.0)\n",
    "        tmrs.append(0.0)\n",
    "\n",
    "        auc_parts = []\n",
    "        for i in range(len(fmrs) - 1):\n",
    "          auc_parts.append(abs(fmrs[i] - fmrs[i + 1]) * (tmrs[i] + tmrs[i + 1]) / 2.0)\n",
    "        auc = _pairwise_sum(auc_parts)\n",
    "\n",
    "    return auc, fmrs, tmrs"
   ]
  },
  {
   "cell_type": "code",
   "execution_count": 35,
   "metadata": {
    "id": "QCcEAgF5KBFo"
   },
   "outputs": [
    {
     "name": "stdout",
     "output_type": "stream",
     "text": [
      "FMR x TMR AUC calculation won't work on None value.\n",
      "FMR x TMR AUC calculation won't work on arrays not containing (<label>,<score>) elements.\n",
      "AUC: 1.0\n",
      "FMR: [1.0, 0.6666666666666666, 0.3333333333333333, 0.0, 0.0, 0.0, 0.0]\n",
      "TMR: [1.0, 1.0, 1.0, 1.0, 0.6666666666666667, 0.33333333333333337, 0.0]\n"
     ]
    }
   ],
   "source": [
    "# tests FMR x FMR AUC\n",
    "try:\n",
    "    compute_sim_fmr_tmr_auc(None)\n",
    "except TypeError:\n",
    "    print(\"FMR x TMR AUC calculation won't work on None value.\")\n",
    "\n",
    "try:\n",
    "    compute_sim_fmr_tmr_auc([0])\n",
    "except TypeError:\n",
    "    print(\"FMR x TMR AUC calculation won't work on arrays not containing (<label>,<score>) elements.\")\n",
    "\n",
    "assert not float('-inf') < compute_sim_fmr_tmr_auc([])[0] < float('inf')  # empty array, not a number\n",
    "assert len(compute_sim_fmr_tmr_auc([])[1]) == 0 # empty array, nothing to do\n",
    "assert len(compute_sim_fmr_tmr_auc([])[2]) == 0 # empty array, nothing to do\n",
    "\n",
    "assert not float('-inf') < compute_sim_fmr_tmr_auc([(0, 0.1)])[0] < float('inf')  # missing genuine, nan\n",
    "assert len(compute_sim_fmr_tmr_auc([(0, 0.1)])[1]) == 0 # missing genuine, nothing to do\n",
    "assert len(compute_sim_fmr_tmr_auc([(0, 0.1)])[2]) == 0 # missing genuine, nothing to do\n",
    "\n",
    "assert not float('-inf') < compute_sim_fmr_tmr_auc([(1, 0.1)])[0] < float('inf')  # missing impostors, nan\n",
    "assert len(compute_sim_fmr_tmr_auc([(1, 0.1)])[1]) == 0 # missing impostors, nothing to do\n",
    "assert len(compute_sim_fmr_tmr_auc([(1, 0.1)])[2]) == 0 # missing impostors, nothing to do\n",
    "\n",
    "auc, fmrs, tmrs = compute_sim_fmr_tmr_auc([(0, 0.2), (0, 0.3), (0, 0.4), (1, 0.5), (1, 0.6), (1, 0.7)])\n",
    "#print(auc)\n",
    "#assert auc == 1.0\n",
    "assert len(fmrs) > 0\n",
    "assert len(tmrs) > 0\n",
    "assert len(fmrs) == len(tmrs)\n",
    "print('AUC:', auc)\n",
    "print('FMR:', fmrs)\n",
    "print('TMR:', tmrs)"
   ]
  },
  {
   "cell_type": "markdown",
   "metadata": {
    "id": "KVix_2j5ME0c"
   },
   "source": [
    "---\n",
    "### Exercise 4\n",
    "Compute FMR versus TMR AUC for the content of <code>/content/test.csv</code>."
   ]
  },
  {
   "cell_type": "code",
   "execution_count": 37,
   "metadata": {
    "id": "ID9sMKgAMVlK"
   },
   "outputs": [
    {
     "name": "stdout",
     "output_type": "stream",
     "text": [
      "AUC: 0.9376\n",
      "FMRs: [1.0, 0.98, 0.96, 0.94, 0.92, 0.9, 0.88, 0.86, 0.84, 0.82, 0.8, 0.78, 0.76, 0.74, 0.72, 0.7, 0.68, 0.66, 0.64, 0.62, 0.6, 0.58, 0.56, 0.54, 0.52, 0.5, 0.48, 0.46, 0.44, 0.42, 0.4, 0.4, 0.4, 0.4, 0.38, 0.38, 0.36, 0.36, 0.34, 0.32, 0.32, 0.3, 0.28, 0.26, 0.26, 0.24, 0.22, 0.2, 0.2, 0.18, 0.16, 0.14, 0.12, 0.1, 0.08, 0.08, 0.08, 0.08, 0.06, 0.04, 0.04, 0.04, 0.04, 0.04, 0.02, 0.0, 0.0, 0.0, 0.0, 0.0, 0.0, 0.0, 0.0, 0.0, 0.0, 0.0, 0.0, 0.0, 0.0, 0.0, 0.0, 0.0, 0.0, 0.0, 0.0, 0.0, 0.0, 0.0, 0.0, 0.0, 0.0, 0.0, 0.0, 0.0, 0.0, 0.0, 0.0, 0.0, 0.0, 0.0, 0.0]\n",
      "TMRs: [1.0, 1.0, 1.0, 1.0, 1.0, 1.0, 1.0, 1.0, 1.0, 1.0, 1.0, 1.0, 1.0, 1.0, 1.0, 1.0, 1.0, 1.0, 1.0, 1.0, 1.0, 1.0, 1.0, 1.0, 1.0, 1.0, 1.0, 1.0, 1.0, 1.0, 1.0, 0.98, 0.96, 0.94, 0.94, 0.92, 0.92, 0.9, 0.9, 0.9, 0.88, 0.88, 0.88, 0.88, 0.86, 0.86, 0.86, 0.86, 0.84, 0.84, 0.84, 0.84, 0.84, 0.84, 0.84, 0.8200000000000001, 0.8, 0.78, 0.78, 0.78, 0.76, 0.74, 0.72, 0.7, 0.7, 0.7, 0.6799999999999999, 0.6599999999999999, 0.64, 0.62, 0.6, 0.5800000000000001, 0.56, 0.54, 0.52, 0.5, 0.48, 0.45999999999999996, 0.43999999999999995, 0.42000000000000004, 0.4, 0.38, 0.36, 0.33999999999999997, 0.31999999999999995, 0.30000000000000004, 0.28, 0.26, 0.24, 0.21999999999999997, 0.19999999999999996, 0.18000000000000005, 0.16000000000000003, 0.14, 0.12, 0.09999999999999998, 0.07999999999999996, 0.06000000000000005, 0.040000000000000036, 0.020000000000000018, 0.0]\n"
     ]
    }
   ],
   "source": [
    "# Load observations from the test.csv file\n",
    "observations = load_data('content/test.csv')\n",
    "\n",
    "# Compute FMR vs TMR AUC, and retrieve FMR and TMR values\n",
    "auc, fmrs, tmrs = compute_sim_fmr_tmr_auc(observations)\n",
    "\n",
    "# Print the results\n",
    "print(f\"AUC: {auc}\")\n",
    "print(f\"FMRs: {fmrs}\")\n",
    "print(f\"TMRs: {tmrs}\")\n"
   ]
  },
  {
   "cell_type": "markdown",
   "metadata": {
    "id": "jbet7SXOMXcW"
   },
   "source": [
    "---\n",
    "## Plot Functions"
   ]
  },
  {
   "cell_type": "code",
   "execution_count": 38,
   "metadata": {
    "id": "ijjHAQZoMmSd"
   },
   "outputs": [],
   "source": [
    "# Plots the histograms of the scores of the impostors and of the genuine observations together.\n",
    "# Observations must be an array of (<label>,<score>) elements.\n",
    "# Labels must be either 0 (impostor) or something else (genuine).\n",
    "def plot_hist(observations):\n",
    "    impostors = []\n",
    "    genuine = []\n",
    "\n",
    "    for item in observations:\n",
    "        if item[0] == 0:\n",
    "            impostors.append(item[1])\n",
    "        else:\n",
    "            genuine.append(item[1])\n",
    "\n",
    "    plt.xlabel('score')\n",
    "    plt.ylabel('frequency')\n",
    "\n",
    "    plt.hist(impostors, facecolor='red', alpha=0.5, label='impostor', align='mid')\n",
    "    plt.hist(genuine, facecolor='blue', alpha=0.5, label='genuine', align='mid')\n",
    "    plt.legend(loc='lower right')\n",
    "\n",
    "    d_prime = compute_d_prime(observations)\n",
    "    if float('-inf') < d_prime < float('inf'):\n",
    "        plt.title(\"Score distribution, d'=\" + '{:.2f}'.format(d_prime))\n",
    "    else:\n",
    "        plt.title('Score distribution')\n",
    "\n",
    "    plt.show()"
   ]
  },
  {
   "cell_type": "code",
   "execution_count": 39,
   "metadata": {
    "id": "IHHqstOoQbU6"
   },
   "outputs": [
    {
     "data": {
      "image/png": "[encoded data removed]",
      "text/plain": [
       "<Figure size 432x288 with 1 Axes>"
      ]
     },
     "metadata": {
      "needs_background": "light"
     },
     "output_type": "display_data"
    }
   ],
   "source": [
    "# histogram plot test 1\n",
    "import matplotlib.pyplot as plt\n",
    "plot_hist([])"
   ]
  },
  {
   "cell_type": "code",
   "execution_count": 40,
   "metadata": {
    "id": "aupnZzvoQsf7"
   },
   "outputs": [
    {
     "data": {
      "image/png": "[encoded data removed]",
      "text/plain": [
       "<Figure size 432x288 with 1 Axes>"
      ]
     },
     "metadata": {
      "needs_background": "light"
     },
     "output_type": "display_data"
    }
   ],
   "source": [
    "# histogram plot test 2\n",
    "import matplotlib.pyplot as plt\n",
    "plot_hist([(0, 0.2), (0, 0.3), (0, 0.4), (1, 0.5), (1, 0.6), (1, 0.7)])"
   ]
  },
  {
   "cell_type": "markdown",
   "metadata": {
    "id": "vW13NNlZQdad"
   },
   "source": [
    "---\n",
    "### Exercise 5\n",
    "Plot the histogram for the content of <code>/content/test.csv</code>."
   ]
  },
  {
   "cell_type": "markdown",
   "metadata": {
    "id": "kRt4zF89h1oa"
   },
   "source": []
  },
  {
   "cell_type": "code",
   "execution_count": 41,
   "metadata": {
    "id": "gZvQQtWPQeqd"
   },
   "outputs": [
    {
     "data": {
      "image/png": "[encoded data removed]",
      "text/plain": [
       "<Figure size 432x288 with 1 Axes>"
      ]
     },
     "metadata": {
      "needs_background": "light"
     },
     "output_type": "display_data"
    }
   ],
   "source": [
    "import matplotlib.pyplot as plt\n",
    "\n",
    "# Load observations from the test.csv file\n",
    "observations = load_data('content/test.csv')\n",
    "\n",
    "# Plot the histogram of impostor and genuine scores\n",
    "plot_hist(observations)\n"
   ]
  },
  {
   "cell_type": "markdown",
   "metadata": {
    "id": "rt7hUArnQafU"
   },
   "source": [
    "---"
   ]
  },
  {
   "cell_type": "code",
   "execution_count": 42,
   "metadata": {
    "id": "KXl7-FoaQ3s9"
   },
   "outputs": [],
   "source": [
    "# Plots the FMR x TMR AUC from the given similarity observations.\n",
    "# Observations must be an array of (<label>,<score>) elements.\n",
    "# Labels must be either 0 (impostor) or something else (genuine).\n",
    "def plot_sim_fmr_tmr_auc(observations):\n",
    "    plt.xlabel('FMR')\n",
    "    plt.ylabel('TMR')\n",
    "\n",
    "    auc, fmrs, tmrs = compute_sim_fmr_tmr_auc(observations)\n",
    "    if float('-inf') < auc < float('inf'):\n",
    "        plt.plot(fmrs, tmrs, label='AUC: ' + '{:.2f}'.format(auc))\n",
    "        plt.plot([0, 1], [0, 1], color='gray', linestyle='--')\n",
    "        plt.legend(loc='lower right')\n",
    "\n",
    "    plt.title('ROC curve')\n",
    "    plt.show()"
   ]
  },
  {
   "cell_type": "code",
   "execution_count": 43,
   "metadata": {
    "id": "b1_UYrrbRKTw"
   },
   "outputs": [
    {
     "data": {
      "image/png": "[encoded data removed]",
      "text/plain": [
       "<Figure size 432x288 with 1 Axes>"
      ]
     },
     "metadata": {
      "needs_background": "light"
     },
     "output_type": "display_data"
    }
   ],
   "source": [
    "# AUC plot test 1\n",
    "import matplotlib.pyplot as plt\n",
    "plot_sim_fmr_tmr_auc([])"
   ]
  },
  {
   "cell_type": "code",
   "execution_count": 44,
   "metadata": {
    "id": "1VWcLRcJRpUb"
   },
   "outputs": [
    {
     "data": {
      "image/png": "[encoded data removed]",
      "text/plain": [
       "<Figure size 432x288 with 1 Axes>"
      ]
     },
     "metadata": {
      "needs_background": "light"
     },
     "output_type": "display_data"
    }
   ],
   "source": [
    "# AUC plot test 2\n",
    "import matplotlib.pyplot as plt\n",
    "plot_sim_fmr_tmr_auc([(0, 0.2), (0, 0.3), (0, 0.4), (1, 0.5), (1, 0.6), (1, 0.7)])\n",
    "\n"
   ]
  },
  {
   "cell_type": "markdown",
   "metadata": {
    "id": "OXtuR7a0R7uj"
   },
   "source": [
    "---\n",
    "### Exercise 6\n",
    "Plot the AUC for the content of <code>/content/test.csv</code>."
   ]
  },
  {
   "cell_type": "code",
   "execution_count": 46,
   "metadata": {
    "id": "jW2syKiIR4R2"
   },
   "outputs": [
    {
     "data": {
      "image/png": "[encoded data removed]",
      "text/plain": [
       "<Figure size 432x288 with 1 Axes>"
      ]
     },
     "metadata": {
      "needs_background": "light"
     },
     "output_type": "display_data"
    }
   ],
   "source": [
    "import matplotlib.pyplot as plt\n",
    "\n",
    "# Load observations from the test.csv file\n",
    "observations = load_data('content/test.csv')\n",
    "\n",
    "# Plot the FMR vs TMR AUC\n",
    "plot_sim_fmr_tmr_auc(observations)\n"
   ]
  },
  {
   "cell_type": "markdown",
   "metadata": {
    "id": "5iUPetcSSAAd"
   },
   "source": [
    "---"
   ]
  }
 ],
 "metadata": {
  "colab": {
   "include_colab_link": true,
   "provenance": [],
   "toc_visible": true
  },
  "kernelspec": {
   "display_name": "Python 3",
   "language": "python",
   "name": "python3"
  },
  "language_info": {
   "codemirror_mode": {
    "name": "ipython",
    "version": 3
   },
   "file_extension": ".py",
   "mimetype": "text/x-python",
   "name": "python",
   "nbconvert_exporter": "python",
   "pygments_lexer": "ipython3",
   "version": "3.8.5"
  }
 },
 "nbformat": 4,
 "nbformat_minor": 1
}
